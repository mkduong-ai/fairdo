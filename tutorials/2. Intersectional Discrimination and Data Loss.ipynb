{
 "cells": [
  {
   "cell_type": "code",
   "execution_count": 1,
   "id": "111b0dc3",
   "metadata": {},
   "outputs": [],
   "source": [
    "# standard library\n",
    "from functools import partial\n",
    "import time\n",
    "\n",
    "# third party\n",
    "import numpy as np\n",
    "import pandas as pd\n",
    "from pymoo.indicators.hv import HV\n",
    "\n",
    "# plot\n",
    "import matplotlib.pyplot as plt\n",
    "#import seaborn as sns\n",
    "#sns.set_theme()\n",
    "# sklearn\n",
    "from sklearn.preprocessing import LabelEncoder\n",
    "\n",
    "# fairdo package\n",
    "from fairdo.utils.dataset import load_data, dataset_intersectional_column\n",
    "# everything needed for custom preprocessing\n",
    "from fairdo.preprocessing import MultiObjectiveWrapper\n",
    "from fairdo.optimize.multi import nsga2\n",
    "from fairdo.optimize.geneticoperators import variable_initialization,\\\n",
    "    elitist_selection_multi,\\\n",
    "    onepoint_crossover,\\\n",
    "    bit_flip_mutation\n",
    "\n",
    "# fairdo metrics\n",
    "from fairdo.metrics import statistical_parity_abs_diff_max,\\\n",
    "    data_loss, group_missing_penalty,\\\n",
    "    statistical_parity_abs_diff_intersectionality"
   ]
  },
  {
   "cell_type": "markdown",
   "id": "af8a4e4b",
   "metadata": {},
   "source": [
    "### 1. Load Dataset"
   ]
  },
  {
   "cell_type": "code",
   "execution_count": 2,
   "id": "cf0b94c0",
   "metadata": {},
   "outputs": [
    {
     "name": "stdout",
     "output_type": "stream",
     "text": [
      "Data downloaded.\n",
      "[5 0 2 3 4 1]\n",
      "0    3696\n",
      "2    2454\n",
      "3     637\n",
      "5     377\n",
      "1      32\n",
      "4      18\n",
      "Name: race, dtype: int64\n",
      "(7214, 13)\n"
     ]
    }
   ],
   "source": [
    "data, label, protected_attributes = load_data('compas', multi_protected_attr=True)"
   ]
  },
  {
   "cell_type": "markdown",
   "id": "352c3618",
   "metadata": {},
   "source": [
    "### 2. Measure Intersectional Discrimination (2 Methods)"
   ]
  },
  {
   "cell_type": "markdown",
   "id": "cd796edf",
   "metadata": {},
   "source": [
    "#### 2.1 Using Intersectional Metric"
   ]
  },
  {
   "cell_type": "code",
   "execution_count": 15,
   "id": "5c3e4eb0",
   "metadata": {},
   "outputs": [
    {
     "name": "stdout",
     "output_type": "stream",
     "text": [
      "0.049085863000073005\n"
     ]
    }
   ],
   "source": [
    "start = time.perf_counter()\n",
    "method1 = statistical_parity_abs_diff_intersectionality(data[label].to_numpy(), data[protected_attributes].to_numpy())\n",
    "elapsed = time.perf_counter() - start\n",
    "print(elapsed)"
   ]
  },
  {
   "cell_type": "markdown",
   "id": "9a4dbc66",
   "metadata": {},
   "source": [
    "#### 2.2 Create new column containing intersectional groups"
   ]
  },
  {
   "cell_type": "code",
   "execution_count": 16,
   "id": "d2c7f323",
   "metadata": {},
   "outputs": [
    {
     "name": "stdout",
     "output_type": "stream",
     "text": [
      "0.015573960001347587\n"
     ]
    }
   ],
   "source": [
    "# Combine protected attributes to a single one\n",
    "data, protected_attribute = dataset_intersectional_column(data, protected_attributes)\n",
    "# Measure intersectional discrimination\n",
    "start = time.perf_counter()\n",
    "method2 = statistical_parity_abs_diff_max(data[label].to_numpy(), data[protected_attribute].to_numpy())\n",
    "elapsed = time.perf_counter() - start\n",
    "print(elapsed)"
   ]
  },
  {
   "cell_type": "code",
   "execution_count": 18,
   "id": "44a42fb1",
   "metadata": {},
   "outputs": [
    {
     "data": {
      "text/plain": [
       "0.0"
      ]
     },
     "execution_count": 18,
     "metadata": {},
     "output_type": "execute_result"
    }
   ],
   "source": [
    "np.abs(method1-method2)"
   ]
  },
  {
   "cell_type": "markdown",
   "id": "12d612d3",
   "metadata": {},
   "source": [
    "### 3. Mitigate Bias for Intersectional Groups"
   ]
  },
  {
   "cell_type": "code",
   "execution_count": 6,
   "id": "9e9deb3c",
   "metadata": {},
   "outputs": [],
   "source": [
    "def mitigate_intersectional_discrimination(pop_size=100, num_generations=100):\n",
    "    # Setting up pre-processor (Best settings from previous experiment)\n",
    "    ga = partial(nsga2,\n",
    "                pop_size=pop_size,\n",
    "                num_generations=num_generations,\n",
    "                initialization=variable_initialization,\n",
    "                selection=elitist_selection_multi,\n",
    "                crossover=onepoint_crossover,\n",
    "                mutation=bit_flip_mutation)\n",
    "\n",
    "    preprocessor_multi = MultiObjectiveWrapper(heuristic=ga,\n",
    "                                                   protected_attribute=protected_attribute,\n",
    "                                                   label=label,\n",
    "                                                   fitness_functions=[statistical_parity_abs_diff_max,\n",
    "                                                                      data_loss])\n",
    "    \n",
    "    # Label encode the protected attribute\n",
    "    le = LabelEncoder()\n",
    "    data[protected_attribute] = le.fit_transform(data[protected_attribute])\n",
    "    n_groups = data[protected_attribute].nunique()\n",
    "\n",
    "    # Fit and transform the data, returns the data closest to the ideal solution\n",
    "    preprocessor_multi.fit(dataset=data)\n",
    "    data_multi = preprocessor_multi.transform(w=np.array([1, 1]))\n",
    "    \n",
    "    return preprocessor_multi"
   ]
  },
  {
   "cell_type": "markdown",
   "id": "5da16265",
   "metadata": {},
   "source": [
    "#### 3.1 Population = 50, Generation = 50"
   ]
  },
  {
   "cell_type": "code",
   "execution_count": 7,
   "id": "aa748fc6",
   "metadata": {},
   "outputs": [
    {
     "name": "stdout",
     "output_type": "stream",
     "text": [
      "10.699362581999594\n",
      "0.2304204126478655\n"
     ]
    }
   ],
   "source": [
    "# Initialize HV calculation\n",
    "ref_point = np.array([1.0, 1.0])\n",
    "ind = HV(ref_point=ref_point)\n",
    "\n",
    "start = time.perf_counter()\n",
    "preprocessor_multi = mitigate_intersectional_discrimination(50, 50)\n",
    "elapsed = time.perf_counter() - start\n",
    "print(elapsed)\n",
    "\n",
    "# Get Pareto front\n",
    "pf = preprocessor_multi.get_pareto_front(return_baseline=False)\n",
    "hv = ind(pf)\n",
    "\n",
    "print(hv)"
   ]
  },
  {
   "cell_type": "code",
   "execution_count": 8,
   "id": "b6249b0b",
   "metadata": {},
   "outputs": [
    {
     "data": {
      "image/png": "[encoded data removed]",
      "text/plain": [
       "<Figure size 504x504 with 1 Axes>"
      ]
     },
     "metadata": {
      "needs_background": "light"
     },
     "output_type": "display_data"
    }
   ],
   "source": [
    "# Plot\n",
    "preprocessor_multi.plot_results(xlabel='Discrimination', ylabel='% Data Removed')"
   ]
  },
  {
   "cell_type": "markdown",
   "id": "940fe1ec",
   "metadata": {},
   "source": [
    "#### 3.2 Population = 50, Generation = 100"
   ]
  },
  {
   "cell_type": "code",
   "execution_count": 9,
   "id": "4511a2cd",
   "metadata": {},
   "outputs": [
    {
     "name": "stdout",
     "output_type": "stream",
     "text": [
      "20.490864986000815\n",
      "0.22682391100779373\n"
     ]
    }
   ],
   "source": [
    "start = time.perf_counter()\n",
    "preprocessor_multi = mitigate_intersectional_discrimination(50, 100)\n",
    "elapsed = time.perf_counter() - start\n",
    "print(elapsed)\n",
    "\n",
    "# Get Pareto front\n",
    "pf = preprocessor_multi.get_pareto_front(return_baseline=False)\n",
    "hv = ind(pf)\n",
    "\n",
    "print(hv)"
   ]
  },
  {
   "cell_type": "code",
   "execution_count": 10,
   "id": "8ea4ff24",
   "metadata": {},
   "outputs": [
    {
     "data": {
      "image/png": "[encoded data removed]",
      "text/plain": [
       "<Figure size 504x504 with 1 Axes>"
      ]
     },
     "metadata": {
      "needs_background": "light"
     },
     "output_type": "display_data"
    }
   ],
   "source": [
    "# Plot\n",
    "preprocessor_multi.plot_results(xlabel='Discrimination', ylabel='\\% Data Removed')"
   ]
  },
  {
   "cell_type": "markdown",
   "id": "9af0e319",
   "metadata": {},
   "source": [
    "#### 3.3 Population = 100, Generation = 50"
   ]
  },
  {
   "cell_type": "code",
   "execution_count": 11,
   "id": "744c99b6",
   "metadata": {},
   "outputs": [
    {
     "name": "stdout",
     "output_type": "stream",
     "text": [
      "21.012380056999973\n",
      "0.251342813312849\n"
     ]
    }
   ],
   "source": [
    "start = time.perf_counter()\n",
    "preprocessor_multi = mitigate_intersectional_discrimination(100, 50)\n",
    "elapsed = time.perf_counter() - start\n",
    "print(elapsed)\n",
    "\n",
    "# Get Pareto front\n",
    "pf = preprocessor_multi.get_pareto_front(return_baseline=False)\n",
    "hv = ind(pf)\n",
    "\n",
    "print(hv)"
   ]
  },
  {
   "cell_type": "code",
   "execution_count": 12,
   "id": "8e429aab",
   "metadata": {},
   "outputs": [
    {
     "data": {
      "image/png": "[encoded data removed]",
      "text/plain": [
       "<Figure size 504x504 with 1 Axes>"
      ]
     },
     "metadata": {
      "needs_background": "light"
     },
     "output_type": "display_data"
    }
   ],
   "source": [
    "# Plot\n",
    "preprocessor_multi.plot_results(xlabel='Discrimination', ylabel='\\% Data Removed')"
   ]
  },
  {
   "cell_type": "markdown",
   "id": "01112dcf",
   "metadata": {},
   "source": [
    "#### 3.4 Mitigating Bias (Slow version)"
   ]
  },
  {
   "cell_type": "code",
   "execution_count": 13,
   "id": "e74533a7",
   "metadata": {},
   "outputs": [],
   "source": [
    "def mitigate_intersectional_discrimination_slow(pop_size=200, num_generations=200):\n",
    "    # Setting up pre-processor (Best settings from previous experiment)\n",
    "    ga = partial(nsga2,\n",
    "                pop_size=pop_size,\n",
    "                num_generations=num_generations,\n",
    "                initialization=variable_initialization,\n",
    "                selection=elitist_selection_multi,\n",
    "                crossover=onepoint_crossover,\n",
    "                mutation=bit_flip_mutation)\n",
    "\n",
    "    preprocessor_multi = MultiObjectiveWrapper(heuristic=ga,\n",
    "                                               protected_attribute=protected_attributes,\n",
    "                                               label=label,\n",
    "                                               fitness_functions=[statistical_parity_abs_diff_intersectionality,\n",
    "                                                                  data_loss])\n",
    "\n",
    "    # Fit and transform the data, returns the data closest to the ideal solution\n",
    "    preprocessor_multi.fit(dataset=data)\n",
    "    data_multi = preprocessor_multi.transform(w=np.array([1, 1]))\n",
    "    \n",
    "    return preprocessor_multi"
   ]
  },
  {
   "cell_type": "code",
   "execution_count": 14,
   "id": "8a9d31ee",
   "metadata": {},
   "outputs": [
    {
     "name": "stdout",
     "output_type": "stream",
     "text": [
      "89.77188758500051\n",
      "0.2509793197091055\n"
     ]
    },
    {
     "data": {
      "image/png": "[encoded data removed]",
      "text/plain": [
       "<Figure size 504x504 with 1 Axes>"
      ]
     },
     "metadata": {
      "needs_background": "light"
     },
     "output_type": "display_data"
    }
   ],
   "source": [
    "# Initialize HV calculation\n",
    "ref_point = np.array([1.0, 1.0])\n",
    "ind = HV(ref_point=ref_point)\n",
    "\n",
    "start = time.perf_counter()\n",
    "preprocessor_multi = mitigate_intersectional_discrimination_slow(100, 25)\n",
    "elapsed = time.perf_counter() - start\n",
    "print(elapsed)\n",
    "\n",
    "# Get Pareto front\n",
    "pf = preprocessor_multi.get_pareto_front(return_baseline=False)\n",
    "hv = ind(pf)\n",
    "\n",
    "print(hv)\n",
    "\n",
    "# Plot\n",
    "preprocessor_multi.plot_results(xlabel='Discrimination', ylabel='\\% Data Removed')"
   ]
  },
  {
   "cell_type": "code",
   "execution_count": null,
   "id": "de0a03fb",
   "metadata": {},
   "outputs": [],
   "source": []
  }
 ],
 "metadata": {
  "kernelspec": {
   "display_name": "fair",
   "language": "python",
   "name": "fair"
  },
  "language_info": {
   "codemirror_mode": {
    "name": "ipython",
    "version": 3
   },
   "file_extension": ".py",
   "mimetype": "text/x-python",
   "name": "python",
   "nbconvert_exporter": "python",
   "pygments_lexer": "ipython3",
   "version": "3.8.13"
  }
 },
 "nbformat": 4,
 "nbformat_minor": 5
}
