{
 "cells": [
  {
   "cell_type": "code",
   "execution_count": 1,
   "id": "b5ed0721",
   "metadata": {},
   "outputs": [],
   "source": [
    "# Needed to specify settings for the used heuristic\n",
    "from functools import partial\n",
    "# Dataset\n",
    "from fairdo.utils.dataset import load_data\n",
    "# Metric to optimize on\n",
    "from fairdo.metrics import statistical_parity_abs_diff\n",
    "# Load GA and the wrapper for pre-processing data\n",
    "from fairdo.optimize.geneticalgorithm import genetic_algorithm\n",
    "from fairdo.preprocessing import HeuristicWrapper"
   ]
  },
  {
   "cell_type": "markdown",
   "id": "61479ee9",
   "metadata": {},
   "source": [
    "## 1. Load Dataset\n",
    "\n",
    "When using `load_data`, an identifier is passed as a string to return a dataset. This function returns a triple which consists of a `pandas.DataFrame`, the label as a string, and protected attributes as a list of strings. Both label and all protected attributes are columns of the returned `pandas.DataFrame`."
   ]
  },
  {
   "cell_type": "code",
   "execution_count": 2,
   "id": "21a7e78a",
   "metadata": {},
   "outputs": [
    {
     "name": "stdout",
     "output_type": "stream",
     "text": [
      "Data downloaded.\n",
      "[5 0 2 3 4 1]\n",
      "0    3696\n",
      "2    2454\n",
      "3     637\n",
      "5     377\n",
      "1      32\n",
      "4      18\n",
      "Name: race, dtype: int64\n",
      "(7214, 8)\n"
     ]
    }
   ],
   "source": [
    "df, label, protected_attributes = load_data('compas')"
   ]
  },
  {
   "cell_type": "code",
   "execution_count": 3,
   "id": "269eea92",
   "metadata": {},
   "outputs": [],
   "source": [
    "# Declare certain settings for the genetic algorithm\n",
    "# It is also possible to use different genetic operators.\n",
    "heuristic = partial(genetic_algorithm,\n",
    "                    pop_size=100,\n",
    "                    num_generations=500)\n",
    "# Following discrimination measure sums all absolute differences between the group disparities\n",
    "disc_measure = statistical_parity_abs_diff\n",
    "# Initialize HeuristicWrapper\n",
    "preprocessor = HeuristicWrapper(heuristic=heuristic,\n",
    "                                disc_measure=disc_measure,\n",
    "                                protected_attribute=protected_attributes,\n",
    "                                label=label)"
   ]
  },
  {
   "cell_type": "markdown",
   "id": "fd12100e",
   "metadata": {},
   "source": [
    "After initializing `HeuristicWrapper`, it is possible to use `fit` and `transform` on any dataset without reinitializing."
   ]
  },
  {
   "cell_type": "code",
   "execution_count": 4,
   "id": "09e40061",
   "metadata": {},
   "outputs": [
    {
     "name": "stdout",
     "output_type": "stream",
     "text": [
      "Stopping after 215 generations due to lack of improvement.\n"
     ]
    }
   ],
   "source": [
    "# Create pre-processing instance\n",
    "preprocessor.fit(df)\n",
    "# Remove samples to yield a fair dataset\n",
    "df_fair = preprocessor.transform()"
   ]
  },
  {
   "cell_type": "markdown",
   "id": "2df246ac",
   "metadata": {},
   "source": [
    "## 2. Compare Discrimination"
   ]
  },
  {
   "cell_type": "code",
   "execution_count": 5,
   "id": "9fd5d099",
   "metadata": {},
   "outputs": [],
   "source": [
    "y_fair = df_fair[label]\n",
    "z_fair = df_fair[protected_attributes].to_numpy().flatten() # expects 1d array\n",
    "y = df[label]\n",
    "z = df[protected_attributes].to_numpy().flatten() # expects 1d array"
   ]
  },
  {
   "cell_type": "code",
   "execution_count": 6,
   "id": "0ca69111",
   "metadata": {},
   "outputs": [],
   "source": [
    "discrimination_fair = statistical_parity_abs_diff(y=y_fair, z=z_fair)\n",
    "discrimination_orig = statistical_parity_abs_diff(y=y, z=z)"
   ]
  },
  {
   "cell_type": "code",
   "execution_count": 8,
   "id": "47991720",
   "metadata": {},
   "outputs": [
    {
     "name": "stdout",
     "output_type": "stream",
     "text": [
      "The original dataset has a statistical disparity (absolute) value of: 1.89\n",
      "The pre-processed fair dataset has a statistical disparity (absolute) value of: 0.16\n",
      "(Lower is better.)\n"
     ]
    }
   ],
   "source": [
    "print(f'The original dataset has a statistical disparity (absolute) value of: {discrimination_orig:.2f}')\n",
    "print(f'The pre-processed fair dataset has a statistical disparity (absolute) value of: {discrimination_fair:.2f}')\n",
    "print('(Lower is better.)')"
   ]
  },
  {
   "cell_type": "code",
   "execution_count": null,
   "id": "a91a7776",
   "metadata": {},
   "outputs": [],
   "source": []
  }
 ],
 "metadata": {
  "kernelspec": {
   "display_name": "fair",
   "language": "python",
   "name": "fair"
  },
  "language_info": {
   "codemirror_mode": {
    "name": "ipython",
    "version": 3
   },
   "file_extension": ".py",
   "mimetype": "text/x-python",
   "name": "python",
   "nbconvert_exporter": "python",
   "pygments_lexer": "ipython3",
   "version": "3.8.13"
  }
 },
 "nbformat": 4,
 "nbformat_minor": 5
}
